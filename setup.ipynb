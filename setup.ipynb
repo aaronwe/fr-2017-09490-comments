{
 "cells": [
  {
   "cell_type": "markdown",
   "metadata": {},
   "source": [
    "## Scraping\n",
    "The **first time** you run this script, follow the instructions in the cell below to create the database and tables.\n",
    "\n",
    "For subsequent runs, start with cell #4"
   ]
  },
  {
   "cell_type": "code",
   "execution_count": null,
   "metadata": {
    "collapsed": true
   },
   "outputs": [],
   "source": [
    "# create database and tables\n",
    "\n",
    "# PostgreSQL 9.x\n",
    "# 2. run query below manually (e.g. using psql)\n",
    "\"\"\"\n",
    "CREATE DATABASE benm\n",
    "    WITH \n",
    "    ENCODING = 'UTF8'\n",
    "    CONNECTION LIMIT = -1;\n",
    "CREATE USER benmuser WITH PASSWORD 'Ki3nslkj4nb';\n",
    "GRANT ALL ON DATABASE benm TO benmuser;\n",
    "\\connect benm\n",
    "ALTER SCHEMA public OWNER TO benmuser;\n",
    "ALTER DATABASE benm OWNER TO benmuser;\n",
    "ALTER DEFAULT PRIVILEGES \n",
    "    FOR USER benmuser\n",
    "    IN SCHEMA public\n",
    "    GRANT SELECT, INSERT, UPDATE, DELETE ON TABLES TO benmuser;\n",
    "    \n",
    "\"\"\"   \n",
    "\n",
    "\n",
    "# create the comments table. uncomment the execute line below and run\n",
    "# to do: create the attachments table\n",
    "import psycopg2\n",
    "\n",
    "query = \"\"\"\n",
    "DROP TABLE IF EXISTS comments CASCADE;\n",
    "CREATE TABLE comments\n",
    "(\n",
    "    id SERIAL PRIMARY KEY,\n",
    "    document_id VARCHAR UNIQUE,\n",
    "    tracking_number VARCHAR UNIQUE,\n",
    "    date_posted DATE,\n",
    "    retrieved TIMESTAMP,\n",
    "    has_attachments BOOLEAN DEFAULT FALSE,\n",
    "    comment TEXT\n",
    ");\n",
    "CREATE INDEX idx_document_id ON comments(document_id);\n",
    "CREATE INDEX idx_date ON comments(date_posted);\n",
    "\"\"\"\n",
    "with psycopg2.connect(\"dbname=benm user=postgres\") as conn:\n",
    "    with conn.cursor() as curs:\n",
    "        # curs.execute(query) # uncomment this line to create the table\n",
    "        # print(curs.statusmessage)\n",
    "    \n",
    "conn.close()\n",
    "\n",
    "\n",
    "# create ignore list table\n",
    "query = \"\"\"\n",
    "DROP TABLE IF EXISTS ignore_list CASCADE;\n",
    "CREATE TABLE ignore_list\n",
    "(\n",
    "    id SERIAL PRIMARY KEY,\n",
    "    document_id VARCHAR UNIQUE NOT NULL,\n",
    "    tracking_number VARCHAR,\n",
    "    reason TEXT\n",
    ");\n",
    "CREATE INDEX idx_ignore_document_id ON ignore_list (document_id);\n",
    "\"\"\"\n",
    "with psycopg2.connect(\"dbname=benm user=postgres\") as conn:\n",
    "    with conn.cursor() as curs:\n",
    "        # curs.execute(query) # uncomment this line to create the table\n",
    "        # print(curs.statusmessage)\n",
    "conn.close()"
   ]
  },
  {
   "cell_type": "code",
   "execution_count": null,
   "metadata": {
    "collapsed": true
   },
   "outputs": [],
   "source": [
    "# run the code below to manually add a comment to the ignore list\n",
    "import psycopg2\n",
    "\n",
    "# general errors\n",
    "ignore_document_id = '' # e.g. 'DOI-2017-0002-99259'\n",
    "ignore_reason = '' # e.g. 'Produces unknown error'\n",
    "\n",
    "conn = psycopg2.connect(\"dbname=benm user=postgres\")\n",
    "cur = conn.cursor()\n",
    "query = \"INSERT INTO ignore_list (document_id, reason) VALUES (%s, %s)\"\n",
    "\n",
    "try:\n",
    "    cur.execute(query, (ignore_document_id, ignore_reason) )\n",
    "    print(cur.statusmessage)\n",
    "except Exception as ex:\n",
    "    print(ex)\n",
    "    \n",
    "conn.commit()\n",
    "cur.close()\n",
    "conn.close()"
   ]
  },
  {
   "cell_type": "code",
   "execution_count": null,
   "metadata": {
    "collapsed": true
   },
   "outputs": [],
   "source": []
  },
  {
   "cell_type": "code",
   "execution_count": null,
   "metadata": {
    "collapsed": true
   },
   "outputs": [],
   "source": []
  }
 ],
 "metadata": {
  "kernelspec": {
   "display_name": "Python 3",
   "language": "python",
   "name": "python3"
  },
  "language_info": {
   "codemirror_mode": {
    "name": "ipython",
    "version": 3
   },
   "file_extension": ".py",
   "mimetype": "text/x-python",
   "name": "python",
   "nbconvert_exporter": "python",
   "pygments_lexer": "ipython3",
   "version": "3.6.1"
  }
 },
 "nbformat": 4,
 "nbformat_minor": 2
}
