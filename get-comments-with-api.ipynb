{
 "cells": [
  {
   "cell_type": "markdown",
   "metadata": {},
   "source": [
    "# Overview\n",
    "Regulations.gov hosts the publicly submitted comments that are part of Sec. Zinke's monuments review. You can browse the comments there, and download a CSV that lists the comment numbers. This project downloads these comments into a CSV dataset using the Regulations.gov dataset.\n",
    "\n",
    "[Docket Browser](https://www.regulations.gov/docketBrowser?rpp=25&so=DESC&sb=commentDueDate&po=0&dct=PS&D=DOI-2017-0002)\n",
    "\n",
    "[Docket Description](https://www.regulations.gov/document?D=DOI-2017-0002-0001)\n",
    "\n",
    "# Instructions\n",
    "To use this code yourself, you'll need to register for a free API key here: [API Key Request](https://regulationsgov.github.io/developers/key/)\n",
    "\n",
    "Update the first cell below with your API key.\n",
    "\n",
    "## Environment\n",
    "* Python 3\n",
    "\n",
    "## Example Document\n",
    "```json\n",
    "{'agencyAcronym': 'DOI',\n",
    " 'allowLateComment': False,\n",
    " 'attachmentCount': 0,\n",
    " 'commentDueDate': '2017-07-10T23:59:59-04:00',\n",
    " 'commentStartDate': '2017-05-11T00:00:00-04:00',\n",
    " 'commentText': \"National Monuments are an important part of America's history and we need to protect more land for future generations, not less. \",\n",
    " 'docketId': 'DOI-2017-0002',\n",
    " 'docketTitle': 'Review of Certain National Monuments Established Since 1996; Notice of Opportunity for Public Comment',\n",
    " 'docketType': 'Nonrulemaking',\n",
    " 'documentId': 'DOI-2017-0002-0007',\n",
    " 'documentStatus': 'Posted',\n",
    " 'documentType': 'Public Submission',\n",
    " 'numberOfCommentsReceived': 1,\n",
    " 'openForComment': True,\n",
    " 'postedDate': '2017-05-11T00:00:00-04:00',\n",
    " 'title': 'Comment on FR Doc # 2017-09490'}\n",
    "```"
   ]
  },
  {
   "cell_type": "code",
   "execution_count": null,
   "metadata": {},
   "outputs": [],
   "source": [
    "import os\n",
    "import requests\n",
    "import json\n",
    "import csv\n",
    "\n",
    "YOUR_API_KEY = 'set your api key as an environmentla variable, or here'\n",
    "\n",
    "API_KEY = os.getenv('API_KEY', YOUR_API_KEY)"
   ]
  },
  {
   "cell_type": "code",
   "execution_count": null,
   "metadata": {},
   "outputs": [],
   "source": [
    "doc_count_url = 'https://api.data.gov:443/regulations/v3/documents.json?api_key=%s&countsOnly=1&dct=PS&dktid=DOI-2017-0002' % API_KEY\n",
    "r = requests.get(doc_count_url)\n",
    "if r.status_code == 200:\n",
    "    result = r.json()\n",
    "    records = result['totalNumRecords']\n",
    "    print('Records available: ', str(records))"
   ]
  },
  {
   "cell_type": "code",
   "execution_count": null,
   "metadata": {},
   "outputs": [],
   "source": [
    "# this will break if the number of posted comments exceeds 1m\n",
    "# since there's a rate limie of 1000 queries per hour\n",
    "# If breaks, can ask Reg.gov to increase cap or modify code\n",
    "# to run less than 1k queries per hour\n",
    "\n",
    "documents_url = 'https://api.data.gov:443/regulations/v3/documents.json?api_key=%s&dct=PS&dktid=DOI-2017-0002&rpp=1000&po=%s&sb=docId&so=ASC'\n",
    "documents = list()\n",
    "\n",
    "offset = 0\n",
    "while offset < records :\n",
    "    print 'Downloading comments {0}-{1} ({2:.1f}%)'.format(offset, offset+999, float(offset) / float(records) * 100)\n",
    "    r = requests.get(documents_url % (API_KEY, offset))\n",
    "    if r.status_code == 200:\n",
    "        result = r.json()\n",
    "        documents = documents + result['documents']\n",
    "        offset += 1000\n",
    "    else:\n",
    "        raise Exception(\"non 200 response code\").with_traceback(tracebackobj)\n",
    "        \n",
    "print 'Done!'"
   ]
  },
  {
   "cell_type": "code",
   "execution_count": null,
   "metadata": {},
   "outputs": [],
   "source": [
    "import csv\n",
    "with open('dataset/comments.csv', 'w') as f:\n",
    "    field_names = ['documentId', 'postedDate', 'attachmentCount', 'commentText']\n",
    "    writer = csv.DictWriter(f, field_names, extrasaction='ignore')\n",
    "    writer.writeheader()\n",
    "    writer.writerows(documents)"
   ]
  }
 ],
 "metadata": {
  "kernelspec": {
   "display_name": "Python 3",
   "language": "python",
   "name": "python3"
  },
  "language_info": {
   "codemirror_mode": {
    "name": "ipython",
    "version": 3
   },
   "file_extension": ".py",
   "mimetype": "text/x-python",
   "name": "python",
   "nbconvert_exporter": "python",
   "pygments_lexer": "ipython3",
   "version": "3.6.1"
  }
 },
 "nbformat": 4,
 "nbformat_minor": 2
}
